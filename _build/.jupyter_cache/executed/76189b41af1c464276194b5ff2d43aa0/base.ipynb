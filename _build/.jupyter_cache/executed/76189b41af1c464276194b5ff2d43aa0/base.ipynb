{
 "cells": [
  {
   "cell_type": "code",
   "execution_count": 1,
   "metadata": {},
   "outputs": [],
   "source": [
    "import numpy as np\n",
    "import autograd.numpy as anp\n",
    "\n",
    "# Model parameters\n",
    "γ = 10.\n",
    "ρ = 2./3\n",
    "\n",
    "χ = 0.9\n",
    "α = 0.9\n",
    "ϵ = 10.\n",
    "\n",
    "a = .00663 # risk free growth rate of capital\n",
    "g = .00373 # deterministic growth trend of income\n",
    "A = np.array([[.704, 0, 0],[0, 1, -.154],[0,1,0]])\n",
    "B = np.array([[0.144,0],[0,0.206],[0,0]])\n",
    "\n",
    "internal = True #True: internal habit; False: external habit.\n",
    "\n",
    "KoverY_ss = 0.\n",
    "\n",
    "args = (γ, ρ, χ, α, ϵ, a, g, A, B, internal, KoverY_ss)\n",
    "\n",
    "'''\n",
    "f=[f1,f2] which satisfy E[Mf1] = 0 and f2=0.\n",
    "\n",
    "'''\n",
    "def eq_cond(X_t, X_tp1, W_tp1, q, *args):\n",
    "    # Parameters for the model\n",
    "    γ, ρ, χ, α, ϵ, a, g, A, B, internal, _ = args\n",
    "\n",
    "    # Variables:\n",
    "    # log V_t/Y_t, log R_t/Y_t, log U_t/Y_t, log C_t/Y_t,log MH_t/MU_t, log MC_t/MU_t, I_t/Y_t - JUMP VARIABLES\n",
    "    # log H_t/Y_t, K_t/Y_t, log(Y_t/Y_{t-1}), Z_{1,t}, Z_{2,t}, Z_{2,t-1} - STATE VARIABLES\n",
    "    if internal:\n",
    "        vmy_t, rmy_t, umy_t, cmy_t, mhmu_t,mcmu_t, IoverY_t, \\\n",
    "            hmy_t, KoverY_t, gy_t, z1_t, z2_t, z2l_t= X_t.ravel()\n",
    "        vmy_tp1, rmy_tp1, umy_tp1, cmy_tp1, mhmu_tp1, mcmu_tp1, IoverY_tp1, \\\n",
    "            hmy_tp1, KoverY_tp1, gy_tp1, z1_tp1, z2_tp1, z2l_tp1= X_tp1.ravel()\n",
    "    else:\n",
    "        vmy_t, rmy_t, umy_t, cmy_t, mcmu_t, IoverY_t, \\\n",
    "            hmy_t, KoverY_t, gy_t, z1_t, z2_t, z2l_t= X_t.ravel()\n",
    "        vmy_tp1, rmy_tp1, umy_tp1, cmy_tp1, mcmu_tp1, IoverY_tp1, \\\n",
    "            hmy_tp1, KoverY_tp1, gy_tp1, z1_tp1, z2_tp1, z2l_tp1= X_tp1.ravel()\n",
    "\n",
    "    # Exogenous states (stacked together)\n",
    "    Z_t = anp.array([z1_t, z2_t, z2l_t])\n",
    "    Z_tp1 = anp.array([z1_tp1, z2_tp1, z2l_tp1])\n",
    "\n",
    "    # log SDF in units of U, EXCLUDING the change of measure term\n",
    "    β = anp.exp(g * ρ - anp.log(1 + a))\n",
    "    sdf_u = anp.log(β) + (ρ - 1) * (vmy_tp1 + gy_tp1 - rmy_t) - ρ * (umy_tp1 + gy_tp1 - umy_t)\n",
    "    sdf_ex = sdf_u + mcmu_tp1 - mcmu_t\n",
    "\n",
    "    # Eq0: Change of measure evaluated at γ=0. --- (2) in Section 1\n",
    "    # THIS CHANGE OF MEASURE EQUATION MUST BE THE FIRST EQUATION. Order of others doesn't matter.\n",
    "    m = vmy_tp1 + gy_tp1 - rmy_t\n",
    "    # Eq1: Recursive utility --- (1) in Section 1\n",
    "    if ρ == 1.:\n",
    "        res_1 = anp.exp((1-β)*umy_t) * anp.exp(β*rmy_t) - anp.exp(vmy_t)\n",
    "    else:\n",
    "        res_1 = (1-β)*anp.exp((1-ρ)*(umy_t)) + β*anp.exp((1-ρ)*(rmy_t)) - anp.exp((1-ρ)*(vmy_t))\n",
    "    # Eq2: Utility function --- (3) in Section 1\n",
    "    if ϵ == 1.:\n",
    "        res_2 = anp.exp((1-α)*cmy_t) * anp.exp(α*hmy_t) - anp.exp(umy_t)\n",
    "    else:\n",
    "        res_2 = anp.log((1-α)*anp.exp((1-ϵ)*cmy_t)+α*anp.exp((1-ϵ)*hmy_t))/(1-ϵ) - (umy_t)\n",
    "    # Eq3: FOC on investment --- (9) in Section 1\n",
    "    res_3 = anp.log(1+a) + sdf_ex\n",
    "    if internal:\n",
    "        # Eq4: MC/MU --- (8-a) in Section 1\n",
    "        res_4 = (1-α)*anp.exp(ϵ*(umy_t-cmy_t)) + (1-χ)*anp.exp(sdf_u+mhmu_tp1) - anp.exp(mcmu_t)\n",
    "        # Eq5: MH/MU --- (8-b) in Section 1\n",
    "        res_5 = α*anp.exp(ϵ*(umy_t-hmy_t)) + χ*anp.exp(sdf_u+mhmu_tp1) - anp.exp(mhmu_t)\n",
    "    else:\n",
    "        # Eq4: MC/MU --- (8) in Section 1. No MH/MU when external.\n",
    "        res_4 = (1-α)*anp.exp(ϵ*(umy_t-cmy_t)) - anp.exp(mcmu_t)\n",
    "    # Eq6: Capital growth --- (5-b) in Section 1\n",
    "    res_6 = KoverY_tp1 * anp.exp(gy_tp1) + anp.exp(cmy_t) - ((1+a)*KoverY_t + 1)\n",
    "    # Eq7: Habit evolution --- (4) in Section 1\n",
    "    res_7 = anp.exp(hmy_tp1+gy_tp1) - χ*anp.exp(hmy_t) - (1-χ)*anp.exp(cmy_t)\n",
    "    # Eq8: Nonfinancial income process --- (6) in Section 1\n",
    "    res_8 = gy_tp1 - .01 * (z1_tp1 + z2_tp1 - z2_t) - g\n",
    "    # Eq9-11: State process  --- (7) in Section 1\n",
    "    res_9 = (A@Z_t + B@W_tp1 - Z_tp1)[0]\n",
    "    res_10 = (A@Z_t + B@W_tp1 - Z_tp1)[1]\n",
    "    res_11 = (A@Z_t + B@W_tp1 - Z_tp1)[2]\n",
    "    \n",
    "    res_12 = KoverY_tp1 * anp.exp(gy_tp1) - KoverY_t - IoverY_t\n",
    "    \n",
    "    if internal:\n",
    "        return anp.array([m, res_1,res_2,res_3,res_4,res_5,res_6,res_7,res_12, res_8,res_9, res_10, res_11])\n",
    "    else:\n",
    "        return anp.array([m, res_1,res_2,res_3,res_4,res_6,res_7,res_12, res_8,res_9, res_10, res_11])"
   ]
  },
  {
   "cell_type": "code",
   "execution_count": 2,
   "metadata": {},
   "outputs": [],
   "source": [
    "def ss_func(*args):\n",
    "\n",
    "    '''\n",
    "    User-defined function to calculate steady states.\n",
    "\n",
    "    Alternatively, users can simply provide a hard-coded np.array for steady states.\n",
    "\n",
    "    '''\n",
    "    \n",
    "    # Extra parameters for the model\n",
    "    γ, ρ, χ, α, ϵ, a, g, A, B, internal, KoverY_ss = args\n",
    "    \n",
    "    KoverY = KoverY_ss # This is a condition that we can freely impose\n",
    "    β = np.exp(g * ρ - np.log(1+a)) # From FOC (9)\n",
    "    gy = g # From (6). This is just the deterministic growth trend of income\n",
    "\n",
    "    # Starting from the steady state of Y_{t+1}/Y_{t} and K/Y,\n",
    "    # we can solve the steady state of other variables by hand:\n",
    "    cmy = np.log(((1+a) - np.exp(g)) * KoverY + 1) # From (5-b)\n",
    "    hmy = np.log(1-χ) + cmy - np.log((np.exp(g) - χ)) # From (4)\n",
    "    if ϵ == 1.:\n",
    "        umy = (1-α)*cmy + α*hmy # From (3) special case\n",
    "    else:\n",
    "        umy = np.log((1-α)*np.exp((1-ϵ)*cmy) + α * np.exp((1-ϵ)*hmy)) / (1-ϵ) # From (3)\n",
    "\n",
    "    λ = β * np.exp((1-ρ)*g)\n",
    "    \n",
    "    if ρ == 1.:\n",
    "        vmy = (1-β)*umy + β*rmy # From (1) special case\n",
    "    else:\n",
    "        vmy = (np.log((1-β)*np.exp((1-ρ)*umy)) - np.log(1-λ)) / (1-ρ) # From (1)\n",
    "    rmy = vmy + gy # From (2)\n",
    "    \n",
    "    IoverY = KoverY*(np.exp(gy)-1)\n",
    "    \n",
    "    # steady state of Z components (=0, by stationarity of the two AR process)\n",
    "    z1 = 0.\n",
    "    z2 = 0.\n",
    "    z2l = 0.\n",
    "    \n",
    "    if internal:\n",
    "        mhmu = np.log(α) + ϵ * (umy - hmy) - np.log(1 - χ * β * np.exp(-g * ρ)) # From (8'-b)\n",
    "        mcmu = np.log((1-α) * np.exp(ϵ * (umy - cmy)) + (1 - χ) * β * np.exp(-g * ρ) * np.exp(mhmu)) # From (8'-a)\n",
    "        X_0 = np.array([vmy, rmy, umy, cmy, mhmu, mcmu, IoverY, hmy, KoverY, gy, z1, z2, z2l])\n",
    "        \n",
    "    else:\n",
    "        mcmu = np.log((1-α) * np.exp(ϵ * (umy - cmy))) # From (8)\n",
    "        X_0 = np.array([vmy, rmy, umy, cmy, mcmu, IoverY, hmy, KoverY, gy, z1, z2, z2l])\n",
    "        \n",
    "    return X_0"
   ]
  },
  {
   "cell_type": "code",
   "execution_count": 3,
   "metadata": {},
   "outputs": [
    {
     "name": "stderr",
     "output_type": "stream",
     "text": [
      "/home/hohanson/.local/lib/python3.8/site-packages/autograd/tracer.py:14: UserWarning: Output seems independent of input.\n",
      "  warnings.warn(\"Output seems independent of input.\")\n"
     ]
    }
   ],
   "source": [
    "from expansion import recursive_expansion\n",
    "\n",
    "if internal:\n",
    "    var_shape = (7,6,2) # (number of controls, number of states, number of shocks)\n",
    "else:\n",
    "    var_shape = (6,6,2)\n",
    "\n",
    "modelSol = recursive_expansion(eq_cond=eq_cond,\n",
    "                               ss=ss_func,\n",
    "                               var_shape=var_shape, \n",
    "                               γ=args[0],\n",
    "                               second_order=False,# False: only 1st order expansion; True: include 2nd order expansion\n",
    "                               args=args)"
   ]
  },
  {
   "cell_type": "code",
   "execution_count": 4,
   "metadata": {},
   "outputs": [
    {
     "data": {
      "text/plain": [
       "{'c': array([[-0.034644],\n",
       "        [-0.034744],\n",
       "        [ 0.      ],\n",
       "        [ 0.      ],\n",
       "        [ 0.000184],\n",
       "        [ 0.000191],\n",
       "        [ 0.      ],\n",
       "        [ 0.      ],\n",
       "        [ 0.      ],\n",
       "        [ 0.      ],\n",
       "        [ 0.      ],\n",
       "        [ 0.      ],\n",
       "        [ 0.      ]]),\n",
       " 'x': array([[ 0.022513,  0.002828,  0.      ,  0.015984, -0.009595,  0.001512],\n",
       "        [ 0.020151,  0.002835,  0.      ,  0.01604 , -0.009618,  0.001512],\n",
       "        [ 0.841974,  0.000457,  0.      , -0.003318, -0.001551,  0.001536],\n",
       "        [ 0.064614,  0.002706,  0.      ,  0.014992, -0.009182,  0.001514],\n",
       "        [-0.09187 ,  0.000266,  0.      ,  0.002164, -0.000902, -0.000003],\n",
       "        [ 0.562755, -0.001628,  0.      , -0.013255,  0.005524,  0.000016],\n",
       "        [-0.065087,  0.003925,  0.      , -0.015137,  0.009242, -0.001513],\n",
       "        [ 0.904058,  0.000278,  0.      , -0.00478 , -0.000942,  0.001537],\n",
       "        [-0.071416,  1.000207,  0.      , -0.021785,  0.009078,  0.000026],\n",
       "        [ 0.      ,  0.      ,  0.      ,  0.00704 ,  0.      , -0.00154 ],\n",
       "        [ 0.      ,  0.      ,  0.      ,  0.704   ,  0.      ,  0.      ],\n",
       "        [ 0.      ,  0.      ,  0.      ,  0.      ,  1.      , -0.154   ],\n",
       "        [ 0.      ,  0.      ,  0.      ,  0.      ,  1.      ,  0.      ]]),\n",
       " 'w': array([[ 0.00327 , -0.002023],\n",
       "        [ 0.003283, -0.002023],\n",
       "        [-0.001108, -0.002057],\n",
       "        [ 0.003045, -0.002025],\n",
       "        [ 0.000491,  0.000004],\n",
       "        [-0.003007, -0.000024],\n",
       "        [-0.003045,  0.002025],\n",
       "        [-0.00144 , -0.00206 ],\n",
       "        [ 0.      ,  0.      ],\n",
       "        [ 0.00144 ,  0.00206 ],\n",
       "        [ 0.144   ,  0.      ],\n",
       "        [ 0.      ,  0.206   ],\n",
       "        [ 0.      ,  0.      ]])}"
      ]
     },
     "execution_count": 4,
     "metadata": {},
     "output_type": "execute_result"
    }
   ],
   "source": [
    "np.set_printoptions(precision=6,suppress=True)\n",
    "modelSol.X1_tp1.coeffs # First order LOM coefficients"
   ]
  },
  {
   "cell_type": "code",
   "execution_count": 5,
   "metadata": {},
   "outputs": [
    {
     "data": {
      "image/png": "[encoded data removed]",
      "text/plain": [
       "<Figure size 432x288 with 1 Axes>"
      ]
     },
     "metadata": {
      "needs_background": "light"
     },
     "output_type": "display_data"
    }
   ],
   "source": [
    "T = 100 # time horizon for simulation\n",
    "_, _, n_W = modelSol.var_shape # the number of shocks within this model\n",
    "Ws_1 = np.zeros((T,n_W)) # \"generate\" zero shocks throughout the horizon T=100\n",
    "sim_result_1 = modelSol.simulate(Ws_1) # feed the generated shocks to the simulate method\n",
    "\n",
    "Ws_2 = np.random.multivariate_normal(np.zeros(n_W), np.eye(n_W), size = T) # generate N(0,I) shocks\n",
    "sim_result_2 = modelSol.simulate(Ws_2) # feed the generated shocks to the simulate method\n",
    "\n",
    "import matplotlib.pyplot as plt\n",
    "# sim_result contains the simulated value of all 12 model variables over the specified horizon\n",
    "# recall that we arranged log(C_t/Y_t) as the 4th control variable, and python index starts from 0\n",
    "plt.plot(sim_result_1[:,3], 'r', lw = .8, alpha = .8, label = 'deterministic') \n",
    "plt.plot(sim_result_2[:,3], 'b', lw = .8, alpha = .8, label = 'stochastic')\n",
    "plt.legend()\n",
    "plt.title(r'$\\log(\\frac{C_t}{Y_t})$ simulation')\n",
    "plt.show()"
   ]
  },
  {
   "cell_type": "code",
   "execution_count": 6,
   "metadata": {},
   "outputs": [
    {
     "data": {
      "image/png": "[encoded data removed]",
      "text/plain": [
       "<Figure size 432x288 with 1 Axes>"
      ]
     },
     "metadata": {
      "needs_background": "light"
     },
     "output_type": "display_data"
    }
   ],
   "source": [
    "states_IRF = []\n",
    "controls_IRF = []\n",
    "T = 100 # time horizon for IRF computation\n",
    "for shock_index in [0,1]: # we have two shocks for this model\n",
    "    states, controls = modelSol.IRF(T, shock_index)\n",
    "    states_IRF.append(states)\n",
    "    controls_IRF.append(controls)\n",
    "\n",
    "plt.plot(np.cumsum(states_IRF[0][:,2])*100, color='b', lw=0.8, alpha=0.8, label = \"$W_1$\")\n",
    "plt.plot(np.cumsum(states_IRF[1][:,2])*100, color='r', lw=0.8, alpha=0.8, label = \"$W_2$\")\n",
    "plt.legend()\n",
    "plt.xlabel(\"Quarters\")\n",
    "plt.title(\"Impulse Responses of $\\log(Y_t)$\")\n",
    "# plt.savefig(\"IncomeIRF\", dpi = 300)\n",
    "plt.show()"
   ]
  },
  {
   "cell_type": "code",
   "execution_count": 7,
   "metadata": {},
   "outputs": [
    {
     "data": {
      "text/plain": [
       "array([[ 0.022513,  0.002828,  0.      ,  0.015984, -0.009595,  0.001512],\n",
       "       [ 0.020151,  0.002835,  0.      ,  0.01604 , -0.009618,  0.001512],\n",
       "       [ 0.841974,  0.000457,  0.      , -0.003318, -0.001551,  0.001536],\n",
       "       [ 0.064614,  0.002706,  0.      ,  0.014992, -0.009182,  0.001514],\n",
       "       [-0.09187 ,  0.000266,  0.      ,  0.002164, -0.000902, -0.000003],\n",
       "       [ 0.562755, -0.001628,  0.      , -0.013255,  0.005524,  0.000016],\n",
       "       [-0.065087,  0.003925,  0.      , -0.015137,  0.009242, -0.001513],\n",
       "       [ 0.904058,  0.000278,  0.      , -0.00478 , -0.000942,  0.001537],\n",
       "       [-0.071416,  1.000207,  0.      , -0.021785,  0.009078,  0.000026],\n",
       "       [ 0.      ,  0.      ,  0.      ,  0.00704 ,  0.      , -0.00154 ],\n",
       "       [ 0.      ,  0.      ,  0.      ,  0.704   ,  0.      ,  0.      ],\n",
       "       [ 0.      ,  0.      ,  0.      ,  0.      ,  1.      , -0.154   ],\n",
       "       [ 0.      ,  0.      ,  0.      ,  0.      ,  1.      ,  0.      ]])"
      ]
     },
     "execution_count": 7,
     "metadata": {},
     "output_type": "execute_result"
    }
   ],
   "source": [
    "modelSol.X1_tp1['x']"
   ]
  },
  {
   "cell_type": "code",
   "execution_count": 8,
   "metadata": {},
   "outputs": [
    {
     "data": {
      "text/plain": [
       "array([[ 0.00327 , -0.002023],\n",
       "       [ 0.003283, -0.002023],\n",
       "       [-0.001108, -0.002057],\n",
       "       [ 0.003045, -0.002025],\n",
       "       [ 0.000491,  0.000004],\n",
       "       [-0.003007, -0.000024],\n",
       "       [-0.003045,  0.002025],\n",
       "       [-0.00144 , -0.00206 ],\n",
       "       [ 0.      ,  0.      ],\n",
       "       [ 0.00144 ,  0.00206 ],\n",
       "       [ 0.144   ,  0.      ],\n",
       "       [ 0.      ,  0.206   ],\n",
       "       [ 0.      ,  0.      ]])"
      ]
     },
     "execution_count": 8,
     "metadata": {},
     "output_type": "execute_result"
    }
   ],
   "source": [
    "modelSol.X1_tp1['w']"
   ]
  }
 ],
 "metadata": {
  "kernelspec": {
   "display_name": "Python 3",
   "language": "python",
   "name": "python3"
  },
  "language_info": {
   "codemirror_mode": {
    "name": "ipython",
    "version": 3
   },
   "file_extension": ".py",
   "mimetype": "text/x-python",
   "name": "python",
   "nbconvert_exporter": "python",
   "pygments_lexer": "ipython3",
   "version": "3.8.10"
  }
 },
 "nbformat": 4,
 "nbformat_minor": 4
}